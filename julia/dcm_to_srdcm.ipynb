{
 "cells": [
  {
   "cell_type": "code",
   "execution_count": 20,
   "id": "6e825334-73e9-4f12-8c0c-93fb2f3365b6",
   "metadata": {},
   "outputs": [],
   "source": [
    "using RegressionDynamicCausalModeling, MAT, Plots, HDF5\n",
    "using FilePathsBase, Serialization, Random, UnPack, Distributed"
   ]
  },
  {
   "cell_type": "code",
   "execution_count": 2,
   "id": "1b4d82af-17d3-4818-a312-e870b5b22bc4",
   "metadata": {},
   "outputs": [
    {
     "data": {
      "text/plain": [
       "3-element Vector{Int64}:\n",
       " 2\n",
       " 3\n",
       " 4"
      ]
     },
     "execution_count": 2,
     "metadata": {},
     "output_type": "execute_result"
    }
   ],
   "source": [
    "#addprocs(3; exeflags=\"--project\")"
   ]
  },
  {
   "cell_type": "code",
   "execution_count": 3,
   "id": "4feef6ff-b54e-49a9-a9ac-ad4bed0c69e2",
   "metadata": {},
   "outputs": [
    {
     "data": {
      "text/plain": [
       "h5_save_output (generic function with 1 method)"
      ]
     },
     "execution_count": 3,
     "metadata": {},
     "output_type": "execute_result"
    }
   ],
   "source": [
    "function h5_save_output(output_srcdm, output_rdcm, filename::String)\n",
    "    h5open(filename, \"w\") do file\n",
    "        create_group(file, \"srdcm\")\n",
    "        create_group(file, \"rdcm\")\n",
    "        write(file, \"srdcm/m_all\", output_srdcm.m_all)\n",
    "        write(file, \"srdcm/F_r\", output_srdcm.F_r)\n",
    "        write(file, \"srdcm/z_all\", output_srdcm.z_all)\n",
    "        write(file, \"rdcm/m_all\", output_rdcm.m_all)\n",
    "        write(file, \"rdcm/F_r\", output_rdcm.F_r)\n",
    "        write(file, \"rdcm/z_all\", output_rdcm.z_all)\n",
    "    end\n",
    "end"
   ]
  },
  {
   "cell_type": "code",
   "execution_count": 4,
   "id": "6fcbd587-663a-48f1-988e-216cc9bfcbcc",
   "metadata": {},
   "outputs": [
    {
     "data": {
      "text/plain": [
       "load_ser_matrix (generic function with 1 method)"
      ]
     },
     "execution_count": 4,
     "metadata": {},
     "output_type": "execute_result"
    }
   ],
   "source": [
    "function save_ser_matrix(matrix, filename::String)\n",
    "    open(filename, \"w\") do file\n",
    "        serialize(file, matrix)\n",
    "    end\n",
    "end\n",
    "\n",
    "function load_ser_matrix(filename::String)\n",
    "    open(filename, \"r\") do file\n",
    "        return deserialize(file)\n",
    "    end\n",
    "end"
   ]
  },
  {
   "cell_type": "code",
   "execution_count": 12,
   "id": "168904b4-7942-42d9-8cb6-3715eecab442",
   "metadata": {},
   "outputs": [
    {
     "data": {
      "text/plain": [
       "process_to_rdcm (generic function with 1 method)"
      ]
     },
     "execution_count": 12,
     "metadata": {},
     "output_type": "execute_result"
    }
   ],
   "source": [
    "function process_to_rdcm(dataDir::String, sub::String, targetDir::String, p0::Float64)\n",
    "    dcm = load_DCM(joinpath(dataDir, sub, \"DCM.mat\"))\n",
    "    opt_srdcm = Options(SparseInversionParams(; reruns=50, restrictInputs=true); synthetic=false, rng=MersenneTwister(42))\n",
    "    opt_rdcm = Options(RigidInversionParams(); synthetic=false, rng=MersenneTwister(42))\n",
    "\n",
    "    rdcm = RigidRdcm(dcm) # convert the DCM to a rDCM model\n",
    "    dcm_test = LinearDCM(dcm.a,rdcm.c,dcm.scans,dcm.nr,InputU(rdcm.U.u, rdcm.U.dt),dcm.Y,dcm.Ep)\n",
    "    srdcm = SparseRdcm(dcm_test; inform_p0=true, p0=p0)\n",
    "    \n",
    "    # Estimate effective connectivity\n",
    "    output_srdcm = invert(srdcm, opt_srdcm)\n",
    "    output_rdcm = invert(rdcm, opt_rdcm)\n",
    "\n",
    "    p0_out = string(p0*100)\n",
    "\n",
    "    # save matrix\n",
    "    h5_save_output(output_srdcm, output_rdcm, \"$targetDir/$(sub)_inv_mF_$(p0_out).h5\")\n",
    "    save_ser_matrix(output_srdcm.m_all, \"$targetDir/$(sub)_srdcm_m_$(p0_out).mat\")\n",
    "    save_ser_matrix(output_rdcm.m_all, \"$targetDir/$(sub)_rdcm_m_$(p0_out).mat\")\n",
    "    save_ser_matrix(output_srdcm.Σ_all, \"$targetDir/$(sub)_srdcm_sigma_$(p0_out).mat\")\n",
    "    save_ser_matrix(output_rdcm.Σ_all, \"$targetDir/$(sub)_rdcm_sigma_$(p0_out).mat\")\n",
    "    save_ser_matrix(output_srdcm.F_r, \"$targetDir/$(sub)_srdcm_F_$(p0_out).mat\")\n",
    "    save_ser_matrix(output_rdcm.F_r, \"$targetDir/$(sub)_rdcm_F_$(p0_out).mat\")\n",
    "\n",
    "end"
   ]
  },
  {
   "cell_type": "code",
   "execution_count": 18,
   "id": "a70245bb-42dd-49a1-89a5-1fface5d1116",
   "metadata": {},
   "outputs": [
    {
     "data": {
      "text/plain": [
       "main (generic function with 1 method)"
      ]
     },
     "execution_count": 18,
     "metadata": {},
     "output_type": "execute_result"
    }
   ],
   "source": [
    "function main()\n",
    "    #dataDir = \"/cluster/scratch/spruthi/project4/SRPBS_OPEN/data\"\n",
    "    dataDir = \"D:\\\\zurich_spring24\\\\tn\\\\project4\\\\SRPBS_OPEN\\\\data\"\n",
    "    sparsity_p0 = 0.20\n",
    "\n",
    "    #for file in readdir(dataDir)\n",
    "    for file in [\"sub-1363\", \"sub-1410\"]\n",
    "        #if file == \"Brainnetome2016\" || file == \"sub-1367\" || file == \"sub-1378\" || file == \"sub-1380\" || file == \"sub-1385\" || file == \"sub-1392\" || file == \"sub-1402\" || file == \"sub-1404\" || file == \"sub-1406\" || file == \"sub-1407\"\n",
    "        #    continue\n",
    "        #end\n",
    "\n",
    "        dataFile = joinpath(dataDir, file)\n",
    "        targetDir = joinpath(dataFile, \"sparseInversion\")\n",
    "\n",
    "        if !ispath(targetDir)\n",
    "            mkdir(targetDir)\n",
    "            println(\"$targetDir created\")\n",
    "        end\n",
    "\n",
    "        #println(\"$target_file does not exist yet\")\n",
    "        \n",
    "        try\n",
    "            process_to_rdcm(dataDir, file, targetDir, sparsity_p0)\n",
    "        catch e\n",
    "            println(\"An error occurred: $(typeof(e)), err: $(e)\")\n",
    "            continue\n",
    "        end\n",
    "    end\n",
    "end"
   ]
  },
  {
   "cell_type": "code",
   "execution_count": null,
   "id": "1ff0f98a-c573-4c01-b610-0ceb8ba3acf1",
   "metadata": {},
   "outputs": [
    {
     "name": "stdout",
     "output_type": "stream",
     "text": [
      "Running model inversion (sparse rDCM)\n"
     ]
    },
    {
     "name": "stderr",
     "output_type": "stream",
     "text": [
      "\u001b[36m\u001b[1m[ \u001b[22m\u001b[39m\u001b[36m\u001b[1mInfo: \u001b[22m\u001b[39mNo input found-> constructing resting-state DCM.\n",
      "\u001b[36m\u001b[1m[ \u001b[22m\u001b[39m\u001b[36m\u001b[1mInfo: \u001b[22m\u001b[39mEp field missing, using default values.\n",
      "\u001b[36m\u001b[1m[ \u001b[22m\u001b[39m\u001b[36m\u001b[1mInfo: \u001b[22m\u001b[39mFound linear DCM.\n",
      "\u001b[36m\u001b[1m[ \u001b[22m\u001b[39m\u001b[36m\u001b[1mInfo: \u001b[22m\u001b[39mNo input found-> constructing resting-state DCM.\n"
     ]
    },
    {
     "name": "stdout",
     "output_type": "stream",
     "text": [
      "An error occurred: InterruptException, err: InterruptException()\n",
      "Running model inversion (sparse rDCM)"
     ]
    },
    {
     "name": "stderr",
     "output_type": "stream",
     "text": [
      "\u001b[36m\u001b[1m[ \u001b[22m\u001b[39m\u001b[36m\u001b[1mInfo: \u001b[22m\u001b[39mEp field missing, using default values.\n",
      "\u001b[36m\u001b[1m[ \u001b[22m\u001b[39m\u001b[36m\u001b[1mInfo: \u001b[22m\u001b[39mFound linear DCM.\n"
     ]
    },
    {
     "name": "stdout",
     "output_type": "stream",
     "text": [
      "\n"
     ]
    },
    {
     "name": "stderr",
     "output_type": "stream",
     "text": [
      "\u001b[32mProgress:   1%|█                                        |  ETA: 1:13:24\u001b[39m"
     ]
    },
    {
     "name": "stdout",
     "output_type": "stream",
     "text": [
      "An error occurred: InterruptException, err: InterruptException()\n"
     ]
    },
    {
     "ename": "InterruptException",
     "evalue": "InterruptException:",
     "output_type": "error",
     "traceback": [
      "InterruptException:",
      "",
      "Stacktrace:",
      "  [1] try_yieldto(undo::typeof(Base.ensure_rescheduled))",
      "    @ Base .\\task.jl:931",
      "  [2] wait()",
      "    @ Base .\\task.jl:995",
      "  [3] uv_write(s::Base.PipeEndpoint, p::Ptr{UInt8}, n::UInt64)",
      "    @ Base .\\stream.jl:1048",
      "  [4] flush(s::Base.PipeEndpoint)",
      "    @ Base .\\stream.jl:1133",
      "  [5] flush",
      "    @ .\\io.jl:427 [inlined]",
      "  [6] flush(io::IJulia.IJuliaStdio{Base.PipeEndpoint})",
      "    @ IJulia C:\\Users\\saksh\\.julia\\packages\\IJulia\\Vo51o\\src\\stdio.jl:275",
      "  [7] flush_all()",
      "    @ IJulia C:\\Users\\saksh\\.julia\\packages\\IJulia\\Vo51o\\src\\stdio.jl:260",
      "  [8] execute_request(socket::ZMQ.Socket, msg::IJulia.Msg)",
      "    @ IJulia C:\\Users\\saksh\\.julia\\packages\\IJulia\\Vo51o\\src\\execute_request.jl:105",
      "  [9] #invokelatest#2",
      "    @ .\\essentials.jl:892 [inlined]",
      " [10] invokelatest",
      "    @ .\\essentials.jl:889 [inlined]",
      " [11] eventloop(socket::ZMQ.Socket)",
      "    @ IJulia C:\\Users\\saksh\\.julia\\packages\\IJulia\\Vo51o\\src\\eventloop.jl:8",
      " [12] (::IJulia.var\"#15#18\")()",
      "    @ IJulia C:\\Users\\saksh\\.julia\\packages\\IJulia\\Vo51o\\src\\eventloop.jl:38"
     ]
    }
   ],
   "source": [
    "main()"
   ]
  },
  {
   "cell_type": "code",
   "execution_count": 17,
   "id": "d34679bf-822d-45fb-b759-98bfa04b7ea5",
   "metadata": {},
   "outputs": [
    {
     "data": {
      "text/plain": [
       "true"
      ]
     },
     "execution_count": 17,
     "metadata": {},
     "output_type": "execute_result"
    }
   ],
   "source": [
    "ispath(\"D:\\\\zurich_spring24\\\\tn\\\\project4\\\\SRPBS_OPEN\\\\data\\\\sub-1363\\\\sparseInversion\")"
   ]
  },
  {
   "cell_type": "code",
   "execution_count": 6,
   "id": "f8c20d93-0b6a-4ab8-b2cc-c7ea00a04588",
   "metadata": {},
   "outputs": [
    {
     "data": {
      "text/plain": [
       "\"25\""
      ]
     },
     "execution_count": 6,
     "metadata": {},
     "output_type": "execute_result"
    }
   ],
   "source": [
    "p0 = 0.254\n",
    "p0_check = string(floor(Int, p0*100))"
   ]
  },
  {
   "cell_type": "code",
   "execution_count": null,
   "id": "62988d15-4fc2-4b93-a51c-fb68edab4a7a",
   "metadata": {},
   "outputs": [],
   "source": []
  }
 ],
 "metadata": {
  "kernelspec": {
   "display_name": "Julia 1.10.2",
   "language": "julia",
   "name": "julia-1.10"
  },
  "language_info": {
   "file_extension": ".jl",
   "mimetype": "application/julia",
   "name": "julia",
   "version": "1.10.2"
  }
 },
 "nbformat": 4,
 "nbformat_minor": 5
}
